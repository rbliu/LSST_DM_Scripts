{
 "cells": [
  {
   "cell_type": "code",
   "execution_count": 177,
   "metadata": {},
   "outputs": [],
   "source": [
    "from astropy.io import fits\n",
    "from astropy.io.fits import getdata\n",
    "import numpy as np\n",
    "import matplotlib.pyplot as plt\n",
    "%matplotlib inline\n",
    "\n",
    "# Set the size of plot size\n",
    "plt.rcParams[\"figure.figsize\"] = (8,8)"
   ]
  },
  {
   "cell_type": "code",
   "execution_count": 120,
   "metadata": {},
   "outputs": [],
   "source": [
    "# Append one FITS table to the other one\n",
    "with fits.open('/Users/rliu/Downloads/test/mergePatchSrc/meas-g-0-1,1.fits') as hdul1:\n",
    "    with fits.open('/Users/rliu/Downloads/test/mergePatchSrc/meas-g-0-1,2.fits') as hdul2:\n",
    "        nrows1 = hdul1[1].data.shape[0]\n",
    "        nrows2 = hdul2[1].data.shape[0]\n",
    "        nrows = nrows1 + nrows2\n",
    "        hdu = fits.BinTableHDU.from_columns(hdul1[1].columns, nrows=nrows)\n",
    "        for colname in hdul1[1].columns.names:\n",
    "            hdu.data[colname][nrows1:] = hdul2[1].data[colname]"
   ]
  },
  {
   "cell_type": "code",
   "execution_count": 121,
   "metadata": {},
   "outputs": [
    {
     "name": "stdout",
     "output_type": "stream",
     "text": [
      "Sum of object number in two input FITS table = 28686\n"
     ]
    }
   ],
   "source": [
    "# The total object number in the merged table\n",
    "data_sum = hdu.data\n",
    "print('Sum of object number in two input FITS table =', data_sum.shape[0])"
   ]
  },
  {
   "cell_type": "code",
   "execution_count": 122,
   "metadata": {
    "scrolled": true
   },
   "outputs": [
    {
     "data": {
      "text/plain": [
       "XTENSION= 'BINTABLE'           / binary table extension                         \n",
       "BITPIX  =                    8 / array data type                                \n",
       "NAXIS   =                    2 / number of array dimensions                     \n",
       "NAXIS1  =                 1509 / length of dimension 1                          \n",
       "NAXIS2  =                28686 / length of dimension 2                          \n",
       "PCOUNT  =                    0 / number of group parameters                     \n",
       "GCOUNT  =                    1 / number of groups                               \n",
       "TFIELDS =                  195 / number of table fields                         \n",
       "TTYPE1  = 'flags   '                                                            \n",
       "TFORM1  = '163X    '                                                            \n",
       "TTYPE2  = 'id      '                                                            \n",
       "TFORM2  = '1K      '                                                            \n",
       "TTYPE3  = 'coord_ra'                                                            \n",
       "TFORM3  = '1D      '                                                            \n",
       "TUNIT3  = 'rad     '                                                            \n",
       "TTYPE4  = 'coord_dec'                                                           \n",
       "TFORM4  = '1D      '                                                            \n",
       "TUNIT4  = 'rad     '                                                            \n",
       "TTYPE5  = 'parent  '                                                            \n",
       "TFORM5  = '1K      '                                                            \n",
       "TTYPE6  = 'deblend_nChild'                                                      \n",
       "TFORM6  = '1J      '                                                            \n",
       "TTYPE7  = 'deblend_psfCenter_x'                                                 \n",
       "TFORM7  = '1D      '                                                            \n",
       "TUNIT7  = 'pixel   '                                                            \n",
       "TTYPE8  = 'deblend_psfCenter_y'                                                 \n",
       "TFORM8  = '1D      '                                                            \n",
       "TUNIT8  = 'pixel   '                                                            \n",
       "TTYPE9  = 'deblend_psf_instFlux'                                                \n",
       "TFORM9  = '1D      '                                                            \n",
       "TUNIT9  = 'count   '                                                            \n",
       "TTYPE10 = 'base_NaiveCentroid_x'                                                \n",
       "TFORM10 = '1D      '                                                            \n",
       "TUNIT10 = 'pixel   '                                                            \n",
       "TTYPE11 = 'base_NaiveCentroid_y'                                                \n",
       "TFORM11 = '1D      '                                                            \n",
       "TUNIT11 = 'pixel   '                                                            \n",
       "TTYPE12 = 'base_SdssCentroid_x'                                                 \n",
       "TFORM12 = '1D      '                                                            \n",
       "TUNIT12 = 'pixel   '                                                            \n",
       "TTYPE13 = 'base_SdssCentroid_y'                                                 \n",
       "TFORM13 = '1D      '                                                            \n",
       "TUNIT13 = 'pixel   '                                                            \n",
       "TTYPE14 = 'base_SdssCentroid_xErr'                                              \n",
       "TFORM14 = '1E      '                                                            \n",
       "TUNIT14 = 'pixel   '                                                            \n",
       "TTYPE15 = 'base_SdssCentroid_yErr'                                              \n",
       "TFORM15 = '1E      '                                                            \n",
       "TUNIT15 = 'pixel   '                                                            \n",
       "TTYPE16 = 'base_Blendedness_old'                                                \n",
       "TFORM16 = '1D      '                                                            \n",
       "TTYPE17 = 'base_Blendedness_raw'                                                \n",
       "TFORM17 = '1D      '                                                            \n",
       "TTYPE18 = 'base_Blendedness_raw_child_instFlux'                                 \n",
       "TFORM18 = '1D      '                                                            \n",
       "TUNIT18 = 'count   '                                                            \n",
       "TTYPE19 = 'base_Blendedness_raw_parent_instFlux'                                \n",
       "TFORM19 = '1D      '                                                            \n",
       "TUNIT19 = 'count   '                                                            \n",
       "TTYPE20 = 'base_Blendedness_abs'                                                \n",
       "TFORM20 = '1D      '                                                            \n",
       "TTYPE21 = 'base_Blendedness_abs_child_instFlux'                                 \n",
       "TFORM21 = '1D      '                                                            \n",
       "TUNIT21 = 'count   '                                                            \n",
       "TTYPE22 = 'base_Blendedness_abs_parent_instFlux'                                \n",
       "TFORM22 = '1D      '                                                            \n",
       "TUNIT22 = 'count   '                                                            \n",
       "TTYPE23 = 'base_Blendedness_raw_child_xx'                                       \n",
       "TFORM23 = '1D      '                                                            \n",
       "TUNIT23 = 'pixel^2 '                                                            \n",
       "TTYPE24 = 'base_Blendedness_raw_child_yy'                                       \n",
       "TFORM24 = '1D      '                                                            \n",
       "TUNIT24 = 'pixel^2 '                                                            \n",
       "TTYPE25 = 'base_Blendedness_raw_child_xy'                                       \n",
       "TFORM25 = '1D      '                                                            \n",
       "TUNIT25 = 'pixel^2 '                                                            \n",
       "TTYPE26 = 'base_Blendedness_raw_parent_xx'                                      \n",
       "TFORM26 = '1D      '                                                            \n",
       "TUNIT26 = 'pixel^2 '                                                            \n",
       "TTYPE27 = 'base_Blendedness_raw_parent_yy'                                      \n",
       "TFORM27 = '1D      '                                                            \n",
       "TUNIT27 = 'pixel^2 '                                                            \n",
       "TTYPE28 = 'base_Blendedness_raw_parent_xy'                                      \n",
       "TFORM28 = '1D      '                                                            \n",
       "TUNIT28 = 'pixel^2 '                                                            \n",
       "TTYPE29 = 'base_Blendedness_abs_child_xx'                                       \n",
       "TFORM29 = '1D      '                                                            \n",
       "TUNIT29 = 'pixel^2 '                                                            \n",
       "TTYPE30 = 'base_Blendedness_abs_child_yy'                                       \n",
       "TFORM30 = '1D      '                                                            \n",
       "TUNIT30 = 'pixel^2 '                                                            \n",
       "TTYPE31 = 'base_Blendedness_abs_child_xy'                                       \n",
       "TFORM31 = '1D      '                                                            \n",
       "TUNIT31 = 'pixel^2 '                                                            \n",
       "TTYPE32 = 'base_Blendedness_abs_parent_xx'                                      \n",
       "TFORM32 = '1D      '                                                            \n",
       "TUNIT32 = 'pixel^2 '                                                            \n",
       "TTYPE33 = 'base_Blendedness_abs_parent_yy'                                      \n",
       "TFORM33 = '1D      '                                                            \n",
       "TUNIT33 = 'pixel^2 '                                                            \n",
       "TTYPE34 = 'base_Blendedness_abs_parent_xy'                                      \n",
       "TFORM34 = '1D      '                                                            \n",
       "TUNIT34 = 'pixel^2 '                                                            \n",
       "TTYPE35 = 'base_InputCount_value'                                               \n",
       "TFORM35 = '1J      '                                                            \n",
       "TTYPE36 = 'base_SdssShape_xx'                                                   \n",
       "TFORM36 = '1D      '                                                            \n",
       "TUNIT36 = 'pixel^2 '                                                            \n",
       "TTYPE37 = 'base_SdssShape_yy'                                                   \n",
       "TFORM37 = '1D      '                                                            \n",
       "TUNIT37 = 'pixel^2 '                                                            \n",
       "TTYPE38 = 'base_SdssShape_xy'                                                   \n",
       "TFORM38 = '1D      '                                                            \n",
       "TUNIT38 = 'pixel^2 '                                                            \n",
       "TTYPE39 = 'base_SdssShape_xxErr'                                                \n",
       "TFORM39 = '1E      '                                                            \n",
       "TUNIT39 = 'pixel^2 '                                                            \n",
       "TTYPE40 = 'base_SdssShape_yyErr'                                                \n",
       "TFORM40 = '1E      '                                                            \n",
       "TUNIT40 = 'pixel^2 '                                                            \n",
       "TTYPE41 = 'base_SdssShape_xyErr'                                                \n",
       "TFORM41 = '1E      '                                                            \n",
       "TUNIT41 = 'pixel^2 '                                                            \n",
       "TTYPE42 = 'base_SdssShape_x'                                                    \n",
       "TFORM42 = '1D      '                                                            \n",
       "TUNIT42 = 'pixel   '                                                            \n",
       "TTYPE43 = 'base_SdssShape_y'                                                    \n",
       "TFORM43 = '1D      '                                                            \n",
       "TUNIT43 = 'pixel   '                                                            \n",
       "TTYPE44 = 'base_SdssShape_instFlux'                                             \n",
       "TFORM44 = '1D      '                                                            \n",
       "TUNIT44 = 'count   '                                                            \n",
       "TTYPE45 = 'base_SdssShape_instFluxErr'                                          \n",
       "TFORM45 = '1D      '                                                            \n",
       "TUNIT45 = 'count   '                                                            \n",
       "TTYPE46 = 'base_SdssShape_psf_xx'                                               \n",
       "TFORM46 = '1D      '                                                            \n",
       "TUNIT46 = 'pixel^2 '                                                            \n",
       "TTYPE47 = 'base_SdssShape_psf_yy'                                               \n",
       "TFORM47 = '1D      '                                                            \n",
       "TUNIT47 = 'pixel^2 '                                                            \n",
       "TTYPE48 = 'base_SdssShape_psf_xy'                                               \n",
       "TFORM48 = '1D      '                                                            \n",
       "TUNIT48 = 'pixel^2 '                                                            \n",
       "TTYPE49 = 'base_SdssShape_instFlux_xx_Cov'                                      \n",
       "TFORM49 = '1E      '                                                            \n",
       "TUNIT49 = 'count*pixel^2'                                                       \n",
       "TTYPE50 = 'base_SdssShape_instFlux_yy_Cov'                                      \n",
       "TFORM50 = '1E      '                                                            \n",
       "TUNIT50 = 'count*pixel^2'                                                       \n",
       "TTYPE51 = 'base_SdssShape_instFlux_xy_Cov'                                      \n",
       "TFORM51 = '1E      '                                                            \n",
       "TUNIT51 = 'count*pixel^2'                                                       \n",
       "TTYPE52 = 'ext_shapeHSM_HsmPsfMoments_x'                                        \n",
       "TFORM52 = '1D      '                                                            \n",
       "TUNIT52 = 'pixel   '                                                            \n",
       "TTYPE53 = 'ext_shapeHSM_HsmPsfMoments_y'                                        \n",
       "TFORM53 = '1D      '                                                            \n",
       "TUNIT53 = 'pixel   '                                                            \n",
       "TTYPE54 = 'ext_shapeHSM_HsmPsfMoments_xx'                                       \n",
       "TFORM54 = '1D      '                                                            \n",
       "TUNIT54 = 'pixel^2 '                                                            \n",
       "TTYPE55 = 'ext_shapeHSM_HsmPsfMoments_yy'                                       \n",
       "TFORM55 = '1D      '                                                            \n",
       "TUNIT55 = 'pixel^2 '                                                            \n",
       "TTYPE56 = 'ext_shapeHSM_HsmPsfMoments_xy'                                       \n",
       "TFORM56 = '1D      '                                                            \n",
       "TUNIT56 = 'pixel^2 '                                                            \n",
       "TTYPE57 = 'ext_shapeHSM_HsmShapeBj_e1'                                          \n",
       "TFORM57 = '1D      '                                                            \n",
       "TTYPE58 = 'ext_shapeHSM_HsmShapeBj_e2'                                          \n",
       "TFORM58 = '1D      '                                                            \n",
       "TTYPE59 = 'ext_shapeHSM_HsmShapeBj_sigma'                                       \n",
       "TFORM59 = '1D      '                                                            \n",
       "TTYPE60 = 'ext_shapeHSM_HsmShapeBj_resolution'                                  \n",
       "TFORM60 = '1D      '                                                            \n",
       "TTYPE61 = 'ext_shapeHSM_HsmShapeKsb_g1'                                         \n",
       "TFORM61 = '1D      '                                                            \n",
       "TTYPE62 = 'ext_shapeHSM_HsmShapeKsb_g2'                                         \n",
       "TFORM62 = '1D      '                                                            \n",
       "TTYPE63 = 'ext_shapeHSM_HsmShapeKsb_sigma'                                      \n",
       "TFORM63 = '1D      '                                                            \n",
       "TTYPE64 = 'ext_shapeHSM_HsmShapeKsb_resolution'                                 \n",
       "TFORM64 = '1D      '                                                            \n",
       "TTYPE65 = 'ext_shapeHSM_HsmShapeLinear_e1'                                      \n",
       "TFORM65 = '1D      '                                                            \n",
       "TTYPE66 = 'ext_shapeHSM_HsmShapeLinear_e2'                                      \n",
       "TFORM66 = '1D      '                                                            \n",
       "TTYPE67 = 'ext_shapeHSM_HsmShapeLinear_sigma'                                   \n",
       "TFORM67 = '1D      '                                                            \n",
       "TTYPE68 = 'ext_shapeHSM_HsmShapeLinear_resolution'                              \n",
       "TFORM68 = '1D      '                                                            \n",
       "TTYPE69 = 'ext_shapeHSM_HsmShapeRegauss_e1'                                     \n",
       "TFORM69 = '1D      '                                                            \n",
       "TTYPE70 = 'ext_shapeHSM_HsmShapeRegauss_e2'                                     \n",
       "TFORM70 = '1D      '                                                            \n",
       "TTYPE71 = 'ext_shapeHSM_HsmShapeRegauss_sigma'                                  \n",
       "TFORM71 = '1D      '                                                            \n",
       "TTYPE72 = 'ext_shapeHSM_HsmShapeRegauss_resolution'                             \n",
       "TFORM72 = '1D      '                                                            \n",
       "TTYPE73 = 'ext_shapeHSM_HsmSourceMoments_x'                                     \n",
       "TFORM73 = '1D      '                                                            \n",
       "TUNIT73 = 'pixel   '                                                            \n",
       "TTYPE74 = 'ext_shapeHSM_HsmSourceMoments_y'                                     \n",
       "TFORM74 = '1D      '                                                            \n",
       "TUNIT74 = 'pixel   '                                                            \n",
       "TTYPE75 = 'ext_shapeHSM_HsmSourceMoments_xx'                                    \n",
       "TFORM75 = '1D      '                                                            \n",
       "TUNIT75 = 'pixel^2 '                                                            \n",
       "TTYPE76 = 'ext_shapeHSM_HsmSourceMoments_yy'                                    \n",
       "TFORM76 = '1D      '                                                            \n",
       "TUNIT76 = 'pixel^2 '                                                            \n",
       "TTYPE77 = 'ext_shapeHSM_HsmSourceMoments_xy'                                    \n",
       "TFORM77 = '1D      '                                                            \n",
       "TUNIT77 = 'pixel^2 '                                                            \n",
       "TTYPE78 = 'modelfit_DoubleShapeletPsfApprox_0_xx'                               \n",
       "TFORM78 = '1D      '                                                            \n",
       "TUNIT78 = 'pixel^2 '                                                            \n",
       "TTYPE79 = 'modelfit_DoubleShapeletPsfApprox_0_yy'                               \n",
       "TFORM79 = '1D      '                                                            \n",
       "TUNIT79 = 'pixel^2 '                                                            \n",
       "TTYPE80 = 'modelfit_DoubleShapeletPsfApprox_0_xy'                               \n",
       "TFORM80 = '1D      '                                                            \n",
       "TUNIT80 = 'pixel^2 '                                                            \n",
       "TTYPE81 = 'modelfit_DoubleShapeletPsfApprox_0_x'                                \n",
       "TFORM81 = '1D      '                                                            \n",
       "TUNIT81 = 'pixel   '                                                            \n",
       "TTYPE82 = 'modelfit_DoubleShapeletPsfApprox_0_y'                                \n",
       "TFORM82 = '1D      '                                                            \n",
       "TUNIT82 = 'pixel   '                                                            \n",
       "TTYPE83 = 'modelfit_DoubleShapeletPsfApprox_0_0'                                \n",
       "TFORM83 = '1D      '                                                            \n",
       "TTYPE84 = 'modelfit_DoubleShapeletPsfApprox_0_1'                                \n",
       "TFORM84 = '1D      '                                                            \n",
       "TTYPE85 = 'modelfit_DoubleShapeletPsfApprox_0_2'                                \n",
       "TFORM85 = '1D      '                                                            \n",
       "TTYPE86 = 'modelfit_DoubleShapeletPsfApprox_0_3'                                \n",
       "TFORM86 = '1D      '                                                            \n",
       "TTYPE87 = 'modelfit_DoubleShapeletPsfApprox_0_4'                                \n",
       "TFORM87 = '1D      '                                                            \n",
       "TTYPE88 = 'modelfit_DoubleShapeletPsfApprox_0_5'                                \n",
       "TFORM88 = '1D      '                                                            \n",
       "TTYPE89 = 'modelfit_DoubleShapeletPsfApprox_1_xx'                               \n",
       "TFORM89 = '1D      '                                                            \n",
       "TUNIT89 = 'pixel^2 '                                                            \n",
       "TTYPE90 = 'modelfit_DoubleShapeletPsfApprox_1_yy'                               \n",
       "TFORM90 = '1D      '                                                            \n",
       "TUNIT90 = 'pixel^2 '                                                            \n",
       "TTYPE91 = 'modelfit_DoubleShapeletPsfApprox_1_xy'                               \n",
       "TFORM91 = '1D      '                                                            \n",
       "TUNIT91 = 'pixel^2 '                                                            \n",
       "TTYPE92 = 'modelfit_DoubleShapeletPsfApprox_1_x'                                \n",
       "TFORM92 = '1D      '                                                            \n",
       "TUNIT92 = 'pixel   '                                                            \n",
       "TTYPE93 = 'modelfit_DoubleShapeletPsfApprox_1_y'                                \n",
       "TFORM93 = '1D      '                                                            \n",
       "TUNIT93 = 'pixel   '                                                            \n",
       "TTYPE94 = 'modelfit_DoubleShapeletPsfApprox_1_0'                                \n",
       "TFORM94 = '1D      '                                                            \n",
       "TTYPE95 = 'modelfit_DoubleShapeletPsfApprox_1_1'                                \n",
       "TFORM95 = '1D      '                                                            \n",
       "TTYPE96 = 'modelfit_DoubleShapeletPsfApprox_1_2'                                \n",
       "TFORM96 = '1D      '                                                            \n",
       "TTYPE97 = 'base_CircularApertureFlux_3_0_instFlux'                              \n",
       "TFORM97 = '1D      '                                                            \n",
       "TUNIT97 = 'count   '                                                            \n",
       "TTYPE98 = 'base_CircularApertureFlux_3_0_instFluxErr'                           \n",
       "TFORM98 = '1D      '                                                            \n",
       "TUNIT98 = 'count   '                                                            \n",
       "TTYPE99 = 'base_CircularApertureFlux_4_5_instFlux'                              \n",
       "TFORM99 = '1D      '                                                            \n",
       "TUNIT99 = 'count   '                                                            \n",
       "TTYPE100= 'base_CircularApertureFlux_4_5_instFluxErr'                           \n",
       "TFORM100= '1D      '                                                            \n",
       "TUNIT100= 'count   '                                                            \n",
       "TTYPE101= 'base_CircularApertureFlux_6_0_instFlux'                              \n",
       "TFORM101= '1D      '                                                            \n",
       "TUNIT101= 'count   '                                                            \n",
       "TTYPE102= 'base_CircularApertureFlux_6_0_instFluxErr'                           \n",
       "TFORM102= '1D      '                                                            \n",
       "TUNIT102= 'count   '                                                            \n",
       "TTYPE103= 'base_CircularApertureFlux_9_0_instFlux'                              \n",
       "TFORM103= '1D      '                                                            \n",
       "TUNIT103= 'count   '                                                            \n",
       "TTYPE104= 'base_CircularApertureFlux_9_0_instFluxErr'                           \n",
       "TFORM104= '1D      '                                                            \n",
       "TUNIT104= 'count   '                                                            \n",
       "TTYPE105= 'base_CircularApertureFlux_12_0_instFlux'                             \n",
       "TFORM105= '1D      '                                                            \n",
       "TUNIT105= 'count   '                                                            \n",
       "TTYPE106= 'base_CircularApertureFlux_12_0_instFluxErr'                          \n",
       "TFORM106= '1D      '                                                            \n",
       "TUNIT106= 'count   '                                                            \n",
       "TTYPE107= 'base_CircularApertureFlux_17_0_instFlux'                             \n",
       "TFORM107= '1D      '                                                            \n",
       "TUNIT107= 'count   '                                                            \n",
       "TTYPE108= 'base_CircularApertureFlux_17_0_instFluxErr'                          \n",
       "TFORM108= '1D      '                                                            \n",
       "TUNIT108= 'count   '                                                            \n",
       "TTYPE109= 'base_CircularApertureFlux_25_0_instFlux'                             \n",
       "TFORM109= '1D      '                                                            \n",
       "TUNIT109= 'count   '                                                            \n",
       "TTYPE110= 'base_CircularApertureFlux_25_0_instFluxErr'                          \n",
       "TFORM110= '1D      '                                                            \n",
       "TUNIT110= 'count   '                                                            \n",
       "TTYPE111= 'base_CircularApertureFlux_35_0_instFlux'                             \n",
       "TFORM111= '1D      '                                                            \n",
       "TUNIT111= 'count   '                                                            \n",
       "TTYPE112= 'base_CircularApertureFlux_35_0_instFluxErr'                          \n",
       "TFORM112= '1D      '                                                            \n",
       "TUNIT112= 'count   '                                                            \n",
       "TTYPE113= 'base_CircularApertureFlux_50_0_instFlux'                             \n",
       "TFORM113= '1D      '                                                            \n",
       "TUNIT113= 'count   '                                                            \n",
       "TTYPE114= 'base_CircularApertureFlux_50_0_instFluxErr'                          \n",
       "TFORM114= '1D      '                                                            \n",
       "TUNIT114= 'count   '                                                            \n",
       "TTYPE115= 'base_CircularApertureFlux_70_0_instFlux'                             \n",
       "TFORM115= '1D      '                                                            \n",
       "TUNIT115= 'count   '                                                            \n",
       "TTYPE116= 'base_CircularApertureFlux_70_0_instFluxErr'                          \n",
       "TFORM116= '1D      '                                                            \n",
       "TUNIT116= 'count   '                                                            \n",
       "TTYPE117= 'base_GaussianFlux_instFlux'                                          \n",
       "TFORM117= '1D      '                                                            \n",
       "TUNIT117= 'count   '                                                            \n",
       "TTYPE118= 'base_GaussianFlux_instFluxErr'                                       \n",
       "TFORM118= '1D      '                                                            \n",
       "TUNIT118= 'count   '                                                            \n",
       "TTYPE119= 'base_LocalBackground_instFlux'                                       \n",
       "TFORM119= '1D      '                                                            \n",
       "TUNIT119= 'count   '                                                            \n",
       "TTYPE120= 'base_LocalBackground_instFluxErr'                                    \n",
       "TFORM120= '1D      '                                                            \n",
       "TUNIT120= 'count   '                                                            \n",
       "TTYPE121= 'base_PsfFlux_instFlux'                                               \n",
       "TFORM121= '1D      '                                                            \n",
       "TUNIT121= 'count   '                                                            \n",
       "TTYPE122= 'base_PsfFlux_instFluxErr'                                            \n",
       "TFORM122= '1D      '                                                            \n",
       "TUNIT122= 'count   '                                                            \n",
       "TTYPE123= 'base_PsfFlux_area'                                                   \n",
       "TFORM123= '1E      '                                                            \n",
       "TUNIT123= 'pixel   '                                                            \n",
       "TTYPE124= 'base_Variance_value'                                                 \n",
       "TFORM124= '1D      '                                                            \n",
       "TTYPE125= 'modelfit_CModel_initial_instFlux'                                    \n",
       "TFORM125= '1D      '                                                            \n",
       "TUNIT125= 'count   '                                                            \n",
       "TTYPE126= 'modelfit_CModel_initial_instFluxErr'                                 \n",
       "TFORM126= '1D      '                                                            \n",
       "TUNIT126= 'count   '                                                            \n",
       "TTYPE127= 'modelfit_CModel_initial_instFlux_inner'                              \n",
       "TFORM127= '1D      '                                                            \n",
       "TUNIT127= 'count   '                                                            \n",
       "TTYPE128= 'modelfit_CModel_initial_ellipse_xx'                                  \n",
       "TFORM128= '1D      '                                                            \n",
       "TUNIT128= 'pixel^2 '                                                            \n",
       "TTYPE129= 'modelfit_CModel_initial_ellipse_yy'                                  \n",
       "TFORM129= '1D      '                                                            \n",
       "TUNIT129= 'pixel^2 '                                                            \n",
       "TTYPE130= 'modelfit_CModel_initial_ellipse_xy'                                  \n",
       "TFORM130= '1D      '                                                            \n",
       "TUNIT130= 'pixel^2 '                                                            \n",
       "TTYPE131= 'modelfit_CModel_initial_objective'                                   \n",
       "TFORM131= '1D      '                                                            \n",
       "TTYPE132= 'modelfit_CModel_initial_nonlinear_0'                                 \n",
       "TFORM132= '1D      '                                                            \n",
       "TTYPE133= 'modelfit_CModel_initial_nonlinear_1'                                 \n",
       "TFORM133= '1D      '                                                            \n",
       "TTYPE134= 'modelfit_CModel_initial_nonlinear_2'                                 \n",
       "TFORM134= '1D      '                                                            \n",
       "TTYPE135= 'modelfit_CModel_initial_fixed_0'                                     \n",
       "TFORM135= '1D      '                                                            \n",
       "TTYPE136= 'modelfit_CModel_initial_fixed_1'                                     \n",
       "TFORM136= '1D      '                                                            \n",
       "TTYPE137= 'modelfit_CModel_initial_nIter'                                       \n",
       "TFORM137= '1J      '                                                            \n",
       "TTYPE138= 'modelfit_CModel_initial_time'                                        \n",
       "TFORM138= '1D      '                                                            \n",
       "TUNIT138= 'second  '                                                            \n",
       "TTYPE139= 'modelfit_CModel_exp_instFlux'                                        \n",
       "TFORM139= '1D      '                                                            \n",
       "TUNIT139= 'count   '                                                            \n",
       "TTYPE140= 'modelfit_CModel_exp_instFluxErr'                                     \n",
       "TFORM140= '1D      '                                                            \n",
       "TUNIT140= 'count   '                                                            \n",
       "TTYPE141= 'modelfit_CModel_exp_instFlux_inner'                                  \n",
       "TFORM141= '1D      '                                                            \n",
       "TUNIT141= 'count   '                                                            \n",
       "TTYPE142= 'modelfit_CModel_exp_ellipse_xx'                                      \n",
       "TFORM142= '1D      '                                                            \n",
       "TUNIT142= 'pixel^2 '                                                            \n",
       "TTYPE143= 'modelfit_CModel_exp_ellipse_yy'                                      \n",
       "TFORM143= '1D      '                                                            \n",
       "TUNIT143= 'pixel^2 '                                                            \n",
       "TTYPE144= 'modelfit_CModel_exp_ellipse_xy'                                      \n",
       "TFORM144= '1D      '                                                            \n",
       "TUNIT144= 'pixel^2 '                                                            \n",
       "TTYPE145= 'modelfit_CModel_exp_objective'                                       \n",
       "TFORM145= '1D      '                                                            \n",
       "TTYPE146= 'modelfit_CModel_exp_nonlinear_0'                                     \n",
       "TFORM146= '1D      '                                                            \n",
       "TTYPE147= 'modelfit_CModel_exp_nonlinear_1'                                     \n",
       "TFORM147= '1D      '                                                            \n",
       "TTYPE148= 'modelfit_CModel_exp_nonlinear_2'                                     \n",
       "TFORM148= '1D      '                                                            \n",
       "TTYPE149= 'modelfit_CModel_exp_fixed_0'                                         \n",
       "TFORM149= '1D      '                                                            \n",
       "TTYPE150= 'modelfit_CModel_exp_fixed_1'                                         \n",
       "TFORM150= '1D      '                                                            \n",
       "TTYPE151= 'modelfit_CModel_exp_nIter'                                           \n",
       "TFORM151= '1J      '                                                            \n",
       "TTYPE152= 'modelfit_CModel_exp_time'                                            \n",
       "TFORM152= '1D      '                                                            \n",
       "TUNIT152= 'second  '                                                            \n",
       "TTYPE153= 'modelfit_CModel_dev_instFlux'                                        \n",
       "TFORM153= '1D      '                                                            \n",
       "TUNIT153= 'count   '                                                            \n",
       "TTYPE154= 'modelfit_CModel_dev_instFluxErr'                                     \n",
       "TFORM154= '1D      '                                                            \n",
       "TUNIT154= 'count   '                                                            \n",
       "TTYPE155= 'modelfit_CModel_dev_instFlux_inner'                                  \n",
       "TFORM155= '1D      '                                                            \n",
       "TUNIT155= 'count   '                                                            \n",
       "TTYPE156= 'modelfit_CModel_dev_ellipse_xx'                                      \n",
       "TFORM156= '1D      '                                                            \n",
       "TUNIT156= 'pixel^2 '                                                            \n",
       "TTYPE157= 'modelfit_CModel_dev_ellipse_yy'                                      \n",
       "TFORM157= '1D      '                                                            \n",
       "TUNIT157= 'pixel^2 '                                                            \n",
       "TTYPE158= 'modelfit_CModel_dev_ellipse_xy'                                      \n",
       "TFORM158= '1D      '                                                            \n",
       "TUNIT158= 'pixel^2 '                                                            \n",
       "TTYPE159= 'modelfit_CModel_dev_objective'                                       \n",
       "TFORM159= '1D      '                                                            \n",
       "TTYPE160= 'modelfit_CModel_dev_nonlinear_0'                                     \n",
       "TFORM160= '1D      '                                                            \n",
       "TTYPE161= 'modelfit_CModel_dev_nonlinear_1'                                     \n",
       "TFORM161= '1D      '                                                            \n",
       "TTYPE162= 'modelfit_CModel_dev_nonlinear_2'                                     \n",
       "TFORM162= '1D      '                                                            \n",
       "TTYPE163= 'modelfit_CModel_dev_fixed_0'                                         \n",
       "TFORM163= '1D      '                                                            \n",
       "TTYPE164= 'modelfit_CModel_dev_fixed_1'                                         \n",
       "TFORM164= '1D      '                                                            \n",
       "TTYPE165= 'modelfit_CModel_dev_nIter'                                           \n",
       "TFORM165= '1J      '                                                            \n",
       "TTYPE166= 'modelfit_CModel_dev_time'                                            \n",
       "TFORM166= '1D      '                                                            \n",
       "TUNIT166= 'second  '                                                            \n",
       "TTYPE167= 'modelfit_CModel_instFlux'                                            \n",
       "TFORM167= '1D      '                                                            \n",
       "TUNIT167= 'count   '                                                            \n",
       "TTYPE168= 'modelfit_CModel_instFluxErr'                                         \n",
       "TFORM168= '1D      '                                                            \n",
       "TUNIT168= 'count   '                                                            \n",
       "TTYPE169= 'modelfit_CModel_instFlux_inner'                                      \n",
       "TFORM169= '1D      '                                                            \n",
       "TUNIT169= 'count   '                                                            \n",
       "TTYPE170= 'modelfit_CModel_fracDev'                                             \n",
       "TFORM170= '1D      '                                                            \n",
       "TTYPE171= 'modelfit_CModel_objective'                                           \n",
       "TFORM171= '1D      '                                                            \n",
       "TTYPE172= 'modelfit_CModel_ellipse_xx'                                          \n",
       "TFORM172= '1D      '                                                            \n",
       "TUNIT172= 'pixel^2 '                                                            \n",
       "TTYPE173= 'modelfit_CModel_ellipse_yy'                                          \n",
       "TFORM173= '1D      '                                                            \n",
       "TUNIT173= 'pixel^2 '                                                            \n",
       "TTYPE174= 'modelfit_CModel_ellipse_xy'                                          \n",
       "TFORM174= '1D      '                                                            \n",
       "TUNIT174= 'pixel^2 '                                                            \n",
       "TTYPE175= 'modelfit_CModel_region_initial_ellipse_xx'                           \n",
       "TFORM175= '1D      '                                                            \n",
       "TUNIT175= 'pixel^2 '                                                            \n",
       "TTYPE176= 'modelfit_CModel_region_initial_ellipse_yy'                           \n",
       "TFORM176= '1D      '                                                            \n",
       "TUNIT176= 'pixel^2 '                                                            \n",
       "TTYPE177= 'modelfit_CModel_region_initial_ellipse_xy'                           \n",
       "TFORM177= '1D      '                                                            \n",
       "TUNIT177= 'pixel^2 '                                                            \n",
       "TTYPE178= 'modelfit_CModel_region_final_ellipse_xx'                             \n",
       "TFORM178= '1D      '                                                            \n",
       "TUNIT178= 'pixel^2 '                                                            \n",
       "TTYPE179= 'modelfit_CModel_region_final_ellipse_yy'                             \n",
       "TFORM179= '1D      '                                                            \n",
       "TUNIT179= 'pixel^2 '                                                            \n",
       "TTYPE180= 'modelfit_CModel_region_final_ellipse_xy'                             \n",
       "TFORM180= '1D      '                                                            \n",
       "TUNIT180= 'pixel^2 '                                                            \n",
       "TTYPE181= 'base_GaussianFlux_apCorr'                                            \n",
       "TFORM181= '1D      '                                                            \n",
       "TTYPE182= 'base_GaussianFlux_apCorrErr'                                         \n",
       "TFORM182= '1D      '                                                            \n",
       "TTYPE183= 'base_PsfFlux_apCorr'                                                 \n",
       "TFORM183= '1D      '                                                            \n",
       "TTYPE184= 'base_PsfFlux_apCorrErr'                                              \n",
       "TFORM184= '1D      '                                                            \n",
       "TTYPE185= 'modelfit_CModel_apCorr'                                              \n",
       "TFORM185= '1D      '                                                            \n",
       "TTYPE186= 'modelfit_CModel_apCorrErr'                                           \n",
       "TFORM186= '1D      '                                                            \n",
       "TTYPE187= 'modelfit_CModel_dev_apCorr'                                          \n",
       "TFORM187= '1D      '                                                            \n",
       "TTYPE188= 'modelfit_CModel_dev_apCorrErr'                                       \n",
       "TFORM188= '1D      '                                                            \n",
       "TTYPE189= 'modelfit_CModel_exp_apCorr'                                          \n",
       "TFORM189= '1D      '                                                            \n",
       "TTYPE190= 'modelfit_CModel_exp_apCorrErr'                                       \n",
       "TFORM190= '1D      '                                                            \n",
       "TTYPE191= 'modelfit_CModel_initial_apCorr'                                      \n",
       "TFORM191= '1D      '                                                            \n",
       "TTYPE192= 'modelfit_CModel_initial_apCorrErr'                                   \n",
       "TFORM192= '1D      '                                                            \n",
       "TTYPE193= 'base_ClassificationExtendedness_value'                               \n",
       "TFORM193= '1D      '                                                            \n",
       "TTYPE194= 'base_FootprintArea_value'                                            \n",
       "TFORM194= '1J      '                                                            \n",
       "TUNIT194= 'pixel   '                                                            \n",
       "TTYPE195= 'footprint'                                                           \n",
       "TFORM195= '1J      '                                                            "
      ]
     },
     "execution_count": 122,
     "metadata": {},
     "output_type": "execute_result"
    }
   ],
   "source": [
    "hdu.header"
   ]
  },
  {
   "cell_type": "code",
   "execution_count": 189,
   "metadata": {},
   "outputs": [
    {
     "name": "stdout",
     "output_type": "stream",
     "text": [
      "Number of Child objects in the sum FITS table= 25645\n"
     ]
    }
   ],
   "source": [
    "# Parent and Child objects may have same ra&dec. Filter and keep only Children objects.\n",
    "data_sum_child = data_sum[data_sum['deblend_nChild']==0]\n",
    "print('Number of Child objects in the sum FITS table=', data_sum_child.shape[0])"
   ]
  },
  {
   "cell_type": "code",
   "execution_count": 190,
   "metadata": {},
   "outputs": [],
   "source": [
    "# Select the ra & dec columns and stack them together\n",
    "data_slice = np.stack((data_sum_child['coord_ra'], data_sum_child['coord_dec']), axis = 1)"
   ]
  },
  {
   "cell_type": "code",
   "execution_count": 192,
   "metadata": {
    "scrolled": true
   },
   "outputs": [],
   "source": [
    "# Get the unique indices of objects with same ra + dec\n",
    "_, unq_row_indices = np.unique(data_slice, return_index=True, axis=0)"
   ]
  },
  {
   "cell_type": "code",
   "execution_count": 193,
   "metadata": {},
   "outputs": [],
   "source": [
    "# Select only the unique objects\n",
    "data_sum_child_unique = data_sum_child[unq_row_indices]"
   ]
  },
  {
   "cell_type": "code",
   "execution_count": 194,
   "metadata": {},
   "outputs": [
    {
     "name": "stdout",
     "output_type": "stream",
     "text": [
      "Total object number after removing duplicate ones = 25339\n"
     ]
    }
   ],
   "source": [
    "print('Total object number after removing duplicate ones =', data_sum_child_unique.shape[0])"
   ]
  },
  {
   "cell_type": "code",
   "execution_count": 160,
   "metadata": {},
   "outputs": [],
   "source": [
    "hdu.data = data_sum_child_unique"
   ]
  },
  {
   "cell_type": "code",
   "execution_count": 163,
   "metadata": {},
   "outputs": [],
   "source": [
    "hdu.writeto('/Users/rliu/Downloads/test/mergePatchSrc/mergedSrc.fits')\n",
    "print('The merged FITS file is saved!')"
   ]
  },
  {
   "cell_type": "code",
   "execution_count": null,
   "metadata": {},
   "outputs": [],
   "source": []
  },
  {
   "cell_type": "code",
   "execution_count": null,
   "metadata": {},
   "outputs": [],
   "source": []
  },
  {
   "cell_type": "code",
   "execution_count": null,
   "metadata": {},
   "outputs": [],
   "source": []
  },
  {
   "cell_type": "markdown",
   "metadata": {},
   "source": [
    "### Verification of the duplicate objects"
   ]
  },
  {
   "cell_type": "markdown",
   "metadata": {},
   "source": [
    "The width of the overlap between two patches is about 63.7arcsec.\n",
    "I'll plot the duplicate objects together with all the objects."
   ]
  },
  {
   "cell_type": "code",
   "execution_count": 195,
   "metadata": {},
   "outputs": [],
   "source": [
    "data_sum_child_duplicate = np.delete(data_sum_child, (unq_row_indices), axis=0)"
   ]
  },
  {
   "cell_type": "code",
   "execution_count": 196,
   "metadata": {},
   "outputs": [
    {
     "data": {
      "image/png": "[encoded data removed]",
      "text/plain": [
       "<Figure size 576x576 with 1 Axes>"
      ]
     },
     "metadata": {
      "needs_background": "light"
     },
     "output_type": "display_data"
    }
   ],
   "source": [
    "plt.scatter(data_sum_child_unique['coord_ra'], data_sum_child_unique['coord_dec'], color='lightblue', \n",
    "            alpha=0.2, marker='.', label='Merged objects')\n",
    "plt.scatter(data_sum_child_duplicate['coord_ra'], data_sum_child_duplicate['coord_dec'], color='red', \n",
    "            alpha=0.1, marker='.', label='Duplicate objects')\n",
    "plt.xlabel('ra')\n",
    "plt.ylabel('dec')\n",
    "plt.axis('equal')\n",
    "plt.legend()\n",
    "plt.show()"
   ]
  },
  {
   "cell_type": "code",
   "execution_count": 197,
   "metadata": {},
   "outputs": [
    {
     "data": {
      "text/plain": [
       "(306,)"
      ]
     },
     "execution_count": 197,
     "metadata": {},
     "output_type": "execute_result"
    }
   ],
   "source": [
    "data_sum_child_duplicate.shape"
   ]
  },
  {
   "cell_type": "code",
   "execution_count": null,
   "metadata": {},
   "outputs": [],
   "source": []
  },
  {
   "cell_type": "code",
   "execution_count": null,
   "metadata": {},
   "outputs": [],
   "source": []
  },
  {
   "cell_type": "code",
   "execution_count": null,
   "metadata": {},
   "outputs": [],
   "source": []
  },
  {
   "cell_type": "code",
   "execution_count": null,
   "metadata": {},
   "outputs": [],
   "source": []
  },
  {
   "cell_type": "markdown",
   "metadata": {},
   "source": [
    "### Scratch"
   ]
  },
  {
   "cell_type": "code",
   "execution_count": null,
   "metadata": {},
   "outputs": [],
   "source": [
    "# Corners of the first patch (13609 objects):\n",
    "# (5.80448, -0.213341)  (5.81139, -0.213341)\n",
    "# (5.80448, -0.220097)  (5.81139, -0.220097)\n",
    "\n",
    "# Corners of the second patch (15077 objects):\n",
    "# (5.80448, -0.206884)  (5.81139, -0.206884)\n",
    "# (5.80448, -0.213650)  (5.81139, -0.213650)"
   ]
  },
  {
   "cell_type": "code",
   "execution_count": 158,
   "metadata": {},
   "outputs": [],
   "source": [
    "d_slice = np.array([[1,0],\n",
    "            [2,2],\n",
    "            [1,0],\n",
    "            [3,2],\n",
    "            [3,3],\n",
    "            [2,2]])"
   ]
  },
  {
   "cell_type": "code",
   "execution_count": 164,
   "metadata": {},
   "outputs": [
    {
     "data": {
      "text/plain": [
       "(6, 2)"
      ]
     },
     "execution_count": 164,
     "metadata": {},
     "output_type": "execute_result"
    }
   ],
   "source": [
    "d_slice.shape"
   ]
  },
  {
   "cell_type": "code",
   "execution_count": 42,
   "metadata": {},
   "outputs": [
    {
     "data": {
      "text/plain": [
       "array([0, 1, 3, 4])"
      ]
     },
     "execution_count": 42,
     "metadata": {},
     "output_type": "execute_result"
    }
   ],
   "source": [
    "_, unq_row_indices = np.unique(d_slice,return_index=True,axis=0)\n",
    "unq_row_indices"
   ]
  },
  {
   "cell_type": "code",
   "execution_count": 58,
   "metadata": {},
   "outputs": [
    {
     "data": {
      "text/plain": [
       "array([[1, 0],\n",
       "       [2, 2]])"
      ]
     },
     "execution_count": 58,
     "metadata": {},
     "output_type": "execute_result"
    }
   ],
   "source": [
    "d_duplicate = np.delete(d_slice, (unq_row_indices), axis=0)\n",
    "d_duplicate"
   ]
  },
  {
   "cell_type": "code",
   "execution_count": 168,
   "metadata": {},
   "outputs": [
    {
     "data": {
      "text/plain": [
       "(array([3, 4, 4]), array([0, 0, 1]))"
      ]
     },
     "execution_count": 168,
     "metadata": {},
     "output_type": "execute_result"
    }
   ],
   "source": [
    "np.where(d_slice == 3)"
   ]
  },
  {
   "cell_type": "code",
   "execution_count": 170,
   "metadata": {},
   "outputs": [
    {
     "data": {
      "text/plain": [
       "array([ True,  True, False])"
      ]
     },
     "execution_count": 170,
     "metadata": {},
     "output_type": "execute_result"
    }
   ],
   "source": [
    "np.equal([0, 1, 3], np.arange(3))"
   ]
  },
  {
   "cell_type": "code",
   "execution_count": 171,
   "metadata": {},
   "outputs": [
    {
     "data": {
      "text/plain": [
       "array([0, 1, 2])"
      ]
     },
     "execution_count": 171,
     "metadata": {},
     "output_type": "execute_result"
    }
   ],
   "source": [
    "np.arange(3)"
   ]
  },
  {
   "cell_type": "code",
   "execution_count": null,
   "metadata": {},
   "outputs": [],
   "source": []
  }
 ],
 "metadata": {
  "kernelspec": {
   "display_name": "Python 3",
   "language": "python",
   "name": "python3"
  },
  "language_info": {
   "codemirror_mode": {
    "name": "ipython",
    "version": 3
   },
   "file_extension": ".py",
   "mimetype": "text/x-python",
   "name": "python",
   "nbconvert_exporter": "python",
   "pygments_lexer": "ipython3",
   "version": "3.7.3"
  }
 },
 "nbformat": 4,
 "nbformat_minor": 2
}
