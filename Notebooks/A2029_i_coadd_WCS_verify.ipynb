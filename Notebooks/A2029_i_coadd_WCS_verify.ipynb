{
 "cells": [
  {
   "cell_type": "code",
   "execution_count": 2,
   "metadata": {},
   "outputs": [],
   "source": [
    "import numpy as np\n",
    "import matplotlib.pyplot as plt\n",
    "%matplotlib inline"
   ]
  },
  {
   "cell_type": "code",
   "execution_count": 28,
   "metadata": {},
   "outputs": [],
   "source": [
    "# Set the size of plot size\n",
    "plt.rcParams[\"figure.figsize\"] = (5,5)"
   ]
  },
  {
   "cell_type": "code",
   "execution_count": 30,
   "metadata": {},
   "outputs": [],
   "source": [
    "i_small_fcat = np.loadtxt('/Users/rliu/Downloads/test/i_small_src_new.fcat')"
   ]
  },
  {
   "cell_type": "code",
   "execution_count": 31,
   "metadata": {},
   "outputs": [],
   "source": [
    "i_small_ra = i_small_fcat[:,91]\n",
    "i_small_dec = i_small_fcat[:,92]"
   ]
  },
  {
   "cell_type": "code",
   "execution_count": 39,
   "metadata": {},
   "outputs": [
    {
     "data": {
      "image/png": "[encoded data removed]",
      "text/plain": [
       "<Figure size 360x360 with 1 Axes>"
      ]
     },
     "metadata": {
      "needs_background": "light"
     },
     "output_type": "display_data"
    }
   ],
   "source": [
    "plt.scatter(i_small_ra, i_small_dec, color='lightblue', alpha=0.5, marker='.')\n",
    "plt.xlabel('ra')\n",
    "plt.ylabel('dec')\n",
    "plt.show()"
   ]
  },
  {
   "cell_type": "code",
   "execution_count": 10,
   "metadata": {},
   "outputs": [
    {
     "data": {
      "text/plain": [
       "array([227.8194785 ,   5.69395144])"
      ]
     },
     "execution_count": 10,
     "metadata": {},
     "output_type": "execute_result"
    }
   ],
   "source": [
    "# Corners in src file of i_coadd_small\n",
    "np.degrees((3.9762, 0.0993782))"
   ]
  },
  {
   "cell_type": "code",
   "execution_count": 11,
   "metadata": {},
   "outputs": [
    {
     "data": {
      "text/plain": [
       "array([228.9883124 ,   5.69395144])"
      ]
     },
     "execution_count": 11,
     "metadata": {},
     "output_type": "execute_result"
    }
   ],
   "source": [
    "np.degrees((3.9966, 0.0993782))"
   ]
  },
  {
   "cell_type": "code",
   "execution_count": 12,
   "metadata": {},
   "outputs": [
    {
     "data": {
      "text/plain": [
       "array([227.8194785 ,   4.52396016])"
      ]
     },
     "execution_count": 12,
     "metadata": {},
     "output_type": "execute_result"
    }
   ],
   "source": [
    "np.degrees((3.9762, 0.078958))"
   ]
  },
  {
   "cell_type": "code",
   "execution_count": 13,
   "metadata": {},
   "outputs": [
    {
     "data": {
      "text/plain": [
       "array([228.9883124 ,   4.52396016])"
      ]
     },
     "execution_count": 13,
     "metadata": {},
     "output_type": "execute_result"
    }
   ],
   "source": [
    "np.degrees((3.9966, 0.078958))"
   ]
  },
  {
   "cell_type": "code",
   "execution_count": 24,
   "metadata": {},
   "outputs": [],
   "source": [
    "# Corners in src file of i_coadd_small\n",
    "src_small_ra = np.array([227.8194785, 228.9883124, 227.8194785, 228.9883124])\n",
    "src_small_dec = np.array([5.69395144, 5.69395144, 4.52396016, 4.52396016])\n",
    "\n",
    "# Corners in original image of i_coadd_small\n",
    "img_small_ra = np.array([228.32507, 227.15093, 228.32382, 227.15207])\n",
    "img_small_dec = np.array([6.32532, 6.325379, 5.158333, 5.15838])\n",
    "\n",
    "# Corners in original image of i_coadd\n",
    "img_large_ra = np.array([228.87777, 226.53858, 228.90181, 226.52876])\n",
    "img_large_dec = np.array([6.7652989, 6.7582015, 4.6052509, 4.6017225])"
   ]
  },
  {
   "cell_type": "code",
   "execution_count": 36,
   "metadata": {},
   "outputs": [
    {
     "data": {
      "image/png": "[encoded data removed]",
      "text/plain": [
       "<Figure size 360x360 with 1 Axes>"
      ]
     },
     "metadata": {
      "needs_background": "light"
     },
     "output_type": "display_data"
    }
   ],
   "source": [
    "plt.scatter(src_small_ra, src_small_dec, label='Corners of src for i_coadd_small', color='red', marker='o')\n",
    "plt.scatter(img_small_ra, img_small_dec, label='Image corners of i_coadd_small', color='royalblue', marker='o')\n",
    "plt.scatter(img_large_ra, img_large_dec, label='Image corners of i_coadd', color='blue', marker='+')\n",
    "plt.xlabel('ra')\n",
    "plt.ylabel('dec')\n",
    "plt.legend()\n",
    "plt.show()"
   ]
  },
  {
   "cell_type": "markdown",
   "metadata": {},
   "source": [
    "### Issue:\n",
    "There is a significant WCS shift in the original image and the output src catalog for i_coadd_small.\n",
    "\n",
    "### Possible reason:\n",
    "DM/obs_file is using WCS header and 'physical x & y', which are corresponding to the frame of the large whole image. \n",
    "i_coadd_small is generated by imcopy that preserves both 'physical x y' and 'image x y'. In this case, we want the small image has the same value for both.\n",
    "\n",
    "### Solution:\n",
    "1. Run DM/obs_file on the large image.\n",
    "2. Modify the header of i_coadd_small to make 'physical x y' = 'image x y' \n",
    "\t(set LTV1=0, LTV2=0. Updated image saved as i_coadd_lensing_small_new.fits)\n"
   ]
  },
  {
   "cell_type": "code",
   "execution_count": null,
   "metadata": {},
   "outputs": [],
   "source": []
  }
 ],
 "metadata": {
  "kernelspec": {
   "display_name": "Python 3",
   "language": "python",
   "name": "python3"
  },
  "language_info": {
   "codemirror_mode": {
    "name": "ipython",
    "version": 3
   },
   "file_extension": ".py",
   "mimetype": "text/x-python",
   "name": "python",
   "nbconvert_exporter": "python",
   "pygments_lexer": "ipython3",
   "version": "3.7.3"
  }
 },
 "nbformat": 4,
 "nbformat_minor": 2
}
